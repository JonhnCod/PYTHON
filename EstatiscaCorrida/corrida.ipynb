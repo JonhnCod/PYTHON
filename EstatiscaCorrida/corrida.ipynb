{
 "cells": [
  {
   "cell_type": "markdown",
   "metadata": {},
   "source": [
    "##### Definição das variáveis que armazena o publico geral, por categoria e a classificação individual geral e por categoria!"
   ]
  },
  {
   "cell_type": "code",
   "execution_count": 1,
   "metadata": {},
   "outputs": [],
   "source": [
    "# Variáveis de publico geral e por categoria\n",
    "publico_geral = 769\n",
    "publico_masc = 365\n",
    "categoria_30anos = 62\n",
    "\n",
    "# Variáveis de colocação\n",
    "classificacao_geral = 98\n",
    "classificacao_categoria30 = 15\n",
    "classificacao_masc = 79"
   ]
  },
  {
   "cell_type": "markdown",
   "metadata": {},
   "source": [
    "#### Função que determina a porcentagem da classificação individual em relação ao numero total de corredores que concluiram a prova"
   ]
  },
  {
   "cell_type": "code",
   "execution_count": 2,
   "metadata": {},
   "outputs": [],
   "source": [
    "def calcular_porcentagem(metricas_individual,metricas_geral):\n",
    "    porcentagem = (metricas_individual / metricas_geral) \n",
    "    return f'{porcentagem:.2%}'"
   ]
  },
  {
   "cell_type": "markdown",
   "metadata": {},
   "source": [
    "#### Função principal que exibe na tela, texto formatado mostrando resultados de desempenho na prova"
   ]
  },
  {
   "cell_type": "code",
   "execution_count": 3,
   "metadata": {},
   "outputs": [],
   "source": [
    "def main():\n",
    "    print('Aqui está a estatística de sua ultima Prova de 5km! (obs: Os numeros gerais foram de corredores que terminaram a prova)\\n')\n",
    "    print(f'Público geral: No público geral teve {publico_geral} corredores e sua colocaçao foi {classificacao_geral}º lugar, o que siginifica que você está entre os {calcular_porcentagem(classificacao_geral,publico_geral)} de competidores mais veloz nessa prova\\n')\n",
    "    print(f'Categoria masculino: Na categoria masculino teve um total de {publico_masc} corredores, e sua posição foi {classificacao_masc}º, esse resultado te coloca entre os {calcular_porcentagem(classificacao_masc,publico_masc)} mais veloz nessa categoria!\\n')\n",
    "    print(f'Categoria 30 a 34 anos: Na categoria de 30 a 34 anos teve um público de {categoria_30anos} corredores e sua classificação foi {classificacao_categoria30}, o que representa {calcular_porcentagem(classificacao_categoria30,categoria_30anos)} do total dessa categoria que teve melhor desempenho\\n')\n",
    "    print(f'Em resumo você teve um execelente desempenho com um tempo total de 00:24:52 min, pace médio de 04:52 por KM, superando 87.25% dos corredores em geral!!')"
   ]
  },
  {
   "cell_type": "markdown",
   "metadata": {},
   "source": [
    "#### Essa condição garante que a função 'main()', seja de uso exclusivo para esse Script!"
   ]
  },
  {
   "cell_type": "code",
   "execution_count": 5,
   "metadata": {},
   "outputs": [
    {
     "name": "stdout",
     "output_type": "stream",
     "text": [
      "Aqui está a estatística de sua ultima Prova de 5km! (obs: Os numeros gerais foram de corredores que terminaram a prova)\n",
      "\n",
      "Público geral: No público geral teve 769 corredores e sua colocaçao foi 98º lugar, o que siginifica que você está entre os 12.74% de competidores mais veloz nessa prova\n",
      "\n",
      "Categoria masculino: Na categoria masculino teve um total de 365 corredores, e sua posição foi 79º, esse resultado te coloca entre os 21.64% mais veloz nessa categoria!\n",
      "\n",
      "Categoria 30 a 34 anos: Na categoria de 30 a 34 anos teve um público de 62 corredores e sua classificação foi 15, o que representa 24.19% do total dessa categoria que teve melhor desempenho\n",
      "\n",
      "Em resumo você teve um execelente desempenho com um tempo total de 00:24:52 min, pace médio de 04:52 por KM, superando 87.25% dos corredores em geral!!\n"
     ]
    }
   ],
   "source": [
    "if __name__ == \"__main__\":\n",
    "    main()"
   ]
  }
 ],
 "metadata": {
  "kernelspec": {
   "display_name": "base",
   "language": "python",
   "name": "python3"
  },
  "language_info": {
   "codemirror_mode": {
    "name": "ipython",
    "version": 3
   },
   "file_extension": ".py",
   "mimetype": "text/x-python",
   "name": "python",
   "nbconvert_exporter": "python",
   "pygments_lexer": "ipython3",
   "version": "3.11.5"
  }
 },
 "nbformat": 4,
 "nbformat_minor": 2
}
