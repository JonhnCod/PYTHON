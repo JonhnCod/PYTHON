{
 "cells": [
  {
   "cell_type": "code",
   "execution_count": null,
   "metadata": {},
   "outputs": [],
   "source": [
    "import pandas as pd \n",
    "import numpy as np\n",
    "import plotly.express as px\n"
   ]
  },
  {
   "cell_type": "code",
   "execution_count": null,
   "metadata": {},
   "outputs": [],
   "source": [
    "df = pd.read_csv(r'mkt_data.csv')\n",
    "df"
   ]
  },
  {
   "cell_type": "markdown",
   "metadata": {},
   "source": [
    "### Quantos dados temos? Linhas e colunas \n"
   ]
  },
  {
   "cell_type": "code",
   "execution_count": null,
   "metadata": {},
   "outputs": [],
   "source": [
    "linhas,colunas = df.shape\n",
    "print(f'Linhas: {linhas}, Colunas: {colunas}')"
   ]
  },
  {
   "cell_type": "markdown",
   "metadata": {},
   "source": [
    " São 44 colunas e  2205 linhas "
   ]
  },
  {
   "cell_type": "markdown",
   "metadata": {},
   "source": [
    "### Quais são as colunas numéricas?\n"
   ]
  },
  {
   "cell_type": "code",
   "execution_count": null,
   "metadata": {},
   "outputs": [],
   "source": [
    "df.info()"
   ]
  },
  {
   "cell_type": "code",
   "execution_count": null,
   "metadata": {},
   "outputs": [],
   "source": [
    "numerics = ['int16', 'int32', 'int64', 'float16', 'float32', 'float64']\n",
    "lista_colunas_numericas = [coluna for coluna in df if df[coluna].dtype in numerics ]\n",
    "\n",
    "lista_colunas_numericas"
   ]
  },
  {
   "cell_type": "markdown",
   "metadata": {},
   "source": [
    "No presente Conjuntos de dados , onde 44 e o número total de colunas, a grande maioria dessas colunas é do tipo numérico, somando 42 colunas numéricas('int64','float64') e apenas 2 colunas categórica('Object')"
   ]
  },
  {
   "cell_type": "markdown",
   "metadata": {},
   "source": [
    "### Temos duplicados na nossa base? Se tivermos, retire-os \n",
    "\n"
   ]
  },
  {
   "cell_type": "code",
   "execution_count": null,
   "metadata": {},
   "outputs": [],
   "source": [
    "df.duplicated().sum()"
   ]
  },
  {
   "cell_type": "markdown",
   "metadata": {},
   "source": [
    " Sem valores duplicados! Porém existe uma coluna de Index que nao é necessária para o DF "
   ]
  },
  {
   "cell_type": "code",
   "execution_count": null,
   "metadata": {},
   "outputs": [],
   "source": [
    "df = df.drop(\"Unnamed: 0\", axis=1)\n",
    "df.duplicated().sum()"
   ]
  },
  {
   "cell_type": "markdown",
   "metadata": {},
   "source": [
    "E ao retirar essa coluna verificamos que existe um total de 184 valores duplicados\n"
   ]
  },
  {
   "cell_type": "code",
   "execution_count": null,
   "metadata": {},
   "outputs": [],
   "source": [
    "df.drop_duplicates()"
   ]
  },
  {
   "cell_type": "markdown",
   "metadata": {},
   "source": [
    "### Temos dados nulos nessa base? Será que eles indicam algo? O que fazer com eles? "
   ]
  },
  {
   "cell_type": "code",
   "execution_count": null,
   "metadata": {},
   "outputs": [],
   "source": [
    "df.isnull().sum()"
   ]
  },
  {
   "cell_type": "markdown",
   "metadata": {},
   "source": [
    "Sim foram encontrados valores nulos nas colunas:\n",
    "\n",
    "marital_Divorced \n",
    "\n",
    "marital_Married \n",
    "\n",
    "marital_Single \n",
    "\n",
    "marital_Together \n",
    "\n",
    "marital_Widow \n",
    "\n",
    "education_2n Cycle \n",
    "\n",
    "education_Basic \n",
    "\n",
    "education_Graduation \n",
    "\n",
    "education_Master \n",
    "\n",
    "education_PhD "
   ]
  },
  {
   "cell_type": "code",
   "execution_count": null,
   "metadata": {},
   "outputs": [],
   "source": [
    "df['marital_Divorced'].value_counts()"
   ]
  },
  {
   "cell_type": "markdown",
   "metadata": {},
   "source": [
    "Analisando de forma individual uma das colunas, para esse caso usaremos a coluna 'marital_Divorced', e como resposta temos o numero 1 aparecendo 230 vezes , pode se concluir que esse valor numérico representa um sim , ou seja para cada linha que representa um cliente, na coluna em que seu valor faz caracteristica se ele é divorciado ou não , os valores numéricos representa SIM e valores nulos ou valor ausente representao NÃO . "
   ]
  },
  {
   "cell_type": "code",
   "execution_count": null,
   "metadata": {},
   "outputs": [],
   "source": [
    "coluna_nulos = ['marital_Divorced',\n",
    "'marital_Married',\n",
    "'marital_Single',\n",
    "'marital_Together',\n",
    "'marital_Widow',\n",
    "'education_2n Cycle',\n",
    "'education_Basic',\n",
    "'education_Graduation',\n",
    "'education_Master',\n",
    "'education_PhD']\n",
    "\n",
    "for i in coluna_nulos:\n",
    "    df[f'bol_'+i] = np.where(df[i].isnull(),0,1)\n",
    "df"
   ]
  },
  {
   "cell_type": "markdown",
   "metadata": {},
   "source": [
    "### Qual é a média, mediana, 25 percentil, 75 percentil, mínimo e máximo de cada uma das colunas numéricas? "
   ]
  },
  {
   "cell_type": "code",
   "execution_count": null,
   "metadata": {},
   "outputs": [],
   "source": [
    "df.describe()"
   ]
  },
  {
   "cell_type": "markdown",
   "metadata": {},
   "source": [
    "### Qual é o maior salário encontrado na nossa base? "
   ]
  },
  {
   "cell_type": "code",
   "execution_count": null,
   "metadata": {},
   "outputs": [],
   "source": [
    "salario = df['Income'].max()\n",
    "print(f'R$ {salario:,}')"
   ]
  },
  {
   "cell_type": "markdown",
   "metadata": {},
   "source": [
    "### Qual é a distribuição de salário na nossa base?"
   ]
  },
  {
   "cell_type": "code",
   "execution_count": null,
   "metadata": {},
   "outputs": [],
   "source": [
    "def arrumar_txt(txt):\n",
    "    return f'{txt:,.2f}'\n",
    "\n",
    "novo_df = (df['Income'].describe().to_frame())\n",
    "\n",
    "df_format = novo_df['Income'][1:].apply(arrumar_txt).to_frame()\n",
    "\n",
    "df_format"
   ]
  },
  {
   "cell_type": "code",
   "execution_count": null,
   "metadata": {},
   "outputs": [],
   "source": [
    "df_salario = df['Income'].value_counts().to_frame().reset_index()\n",
    "\n",
    "px.histogram(df_salario,x='Income',y='count',marginal='box')\n",
    "\n",
    "\n"
   ]
  },
  {
   "cell_type": "code",
   "execution_count": null,
   "metadata": {},
   "outputs": [],
   "source": [
    "px.bar(df['education_level'].value_counts())"
   ]
  },
  {
   "cell_type": "code",
   "execution_count": null,
   "metadata": {},
   "outputs": [],
   "source": [
    "px.bar(df['marital_status'].value_counts())"
   ]
  },
  {
   "cell_type": "code",
   "execution_count": null,
   "metadata": {},
   "outputs": [],
   "source": [
    "df.groupby('marital_status')['kids'].mean().reset_index().sort_values(by='kids',ascending=False)"
   ]
  },
  {
   "cell_type": "code",
   "execution_count": null,
   "metadata": {},
   "outputs": [],
   "source": [
    "df.groupby('marital_status')['kids'].count().reset_index().sort_values(by='kids',ascending=False)"
   ]
  }
 ],
 "metadata": {
  "kernelspec": {
   "display_name": "base",
   "language": "python",
   "name": "python3"
  },
  "language_info": {
   "codemirror_mode": {
    "name": "ipython",
    "version": 3
   },
   "file_extension": ".py",
   "mimetype": "text/x-python",
   "name": "python",
   "nbconvert_exporter": "python",
   "pygments_lexer": "ipython3",
   "version": "3.11.5"
  }
 },
 "nbformat": 4,
 "nbformat_minor": 2
}
