{
 "cells": [
  {
   "cell_type": "code",
   "execution_count": 2,
   "metadata": {},
   "outputs": [
    {
     "name": "stdout",
     "output_type": "stream",
     "text": [
      "[ 1  2  3  5  8 78]\n"
     ]
    }
   ],
   "source": [
    "import numpy as np\n",
    "\n",
    "#criar um vetor linha\n",
    "array_linha = np.array([1,2,3,5,8,78])\n",
    "print(array_linha)"
   ]
  },
  {
   "cell_type": "code",
   "execution_count": 3,
   "metadata": {},
   "outputs": [
    {
     "name": "stdout",
     "output_type": "stream",
     "text": [
      "[[1]\n",
      " [2]\n",
      " [3]]\n"
     ]
    }
   ],
   "source": [
    "#criar vetor coluna\n",
    "array_coluna = np.array([[1],[2],[3]])\n",
    "print(array_coluna)"
   ]
  },
  {
   "cell_type": "code",
   "execution_count": 4,
   "metadata": {},
   "outputs": [
    {
     "name": "stdout",
     "output_type": "stream",
     "text": [
      "[[10 12 13]\n",
      " [ 5  6  8]\n",
      " [59  2  4]]\n"
     ]
    }
   ],
   "source": [
    "#criando matriz \n",
    "np_matriz = np.array([[10,12,13],[5,6,8],[59,2,4]])\n",
    "print(np_matriz)"
   ]
  },
  {
   "cell_type": "code",
   "execution_count": 5,
   "metadata": {},
   "outputs": [
    {
     "name": "stdout",
     "output_type": "stream",
     "text": [
      "[ 0.  12.5 25.  37.5 50. ]\n"
     ]
    }
   ],
   "source": [
    "array_intervalda = np.linspace(0,50,num=5)\n",
    "print(array_intervalda)"
   ]
  },
  {
   "cell_type": "code",
   "execution_count": 6,
   "metadata": {},
   "outputs": [
    {
     "name": "stdout",
     "output_type": "stream",
     "text": [
      "[6 2 5]\n"
     ]
    }
   ],
   "source": [
    "array_randnom = np.random.randint(0,11,3)\n",
    "print(array_randnom)"
   ]
  },
  {
   "cell_type": "code",
   "execution_count": 7,
   "metadata": {},
   "outputs": [
    {
     "name": "stdout",
     "output_type": "stream",
     "text": [
      "(3, 3)\n"
     ]
    }
   ],
   "source": [
    "#n de linhas e colunas \n",
    "print(np_matriz.shape)"
   ]
  },
  {
   "cell_type": "code",
   "execution_count": 8,
   "metadata": {},
   "outputs": [
    {
     "name": "stdout",
     "output_type": "stream",
     "text": [
      "int32\n"
     ]
    }
   ],
   "source": [
    "#tipo dos elementos\n",
    "print(np_matriz.dtype)"
   ]
  },
  {
   "cell_type": "code",
   "execution_count": 9,
   "metadata": {},
   "outputs": [
    {
     "name": "stdout",
     "output_type": "stream",
     "text": [
      "9\n"
     ]
    }
   ],
   "source": [
    "#n de elementos \n",
    "print(np_matriz.size)"
   ]
  },
  {
   "cell_type": "code",
   "execution_count": 10,
   "metadata": {},
   "outputs": [
    {
     "name": "stdout",
     "output_type": "stream",
     "text": [
      "2\n"
     ]
    }
   ],
   "source": [
    "#n de dimensões\n",
    "print(np_matriz.ndim)"
   ]
  },
  {
   "cell_type": "code",
   "execution_count": 11,
   "metadata": {},
   "outputs": [
    {
     "name": "stdout",
     "output_type": "stream",
     "text": [
      "2\n",
      "59\n"
     ]
    }
   ],
   "source": [
    "print(np.min(np_matriz))\n",
    "print(np.max(np_matriz))"
   ]
  },
  {
   "cell_type": "code",
   "execution_count": 12,
   "metadata": {},
   "outputs": [
    {
     "name": "stdout",
     "output_type": "stream",
     "text": [
      "[0 1 2 3 4 5]\n"
     ]
    }
   ],
   "source": [
    "#array random \n",
    "array_random = np.arange(6)\n",
    "print(array_random)"
   ]
  },
  {
   "cell_type": "code",
   "execution_count": 13,
   "metadata": {},
   "outputs": [
    {
     "name": "stdout",
     "output_type": "stream",
     "text": [
      "[[0 1 2]\n",
      " [3 4 5]]\n"
     ]
    }
   ],
   "source": [
    "#array para matriz \n",
    "array_rashape = array_random.reshape(2,3)\n",
    "print(array_rashape)"
   ]
  },
  {
   "cell_type": "code",
   "execution_count": 14,
   "metadata": {},
   "outputs": [
    {
     "data": {
      "text/plain": [
       "16.55145363054105"
      ]
     },
     "execution_count": 14,
     "metadata": {},
     "output_type": "execute_result"
    }
   ],
   "source": [
    "#desvio padrão\n",
    "np.std(np_matriz)"
   ]
  },
  {
   "cell_type": "code",
   "execution_count": 15,
   "metadata": {},
   "outputs": [
    {
     "data": {
      "text/plain": [
       "3.6"
      ]
     },
     "execution_count": 15,
     "metadata": {},
     "output_type": "execute_result"
    }
   ],
   "source": [
    "#percentil\n",
    "np.percentile(np_matriz,10)"
   ]
  },
  {
   "cell_type": "code",
   "execution_count": 16,
   "metadata": {},
   "outputs": [
    {
     "data": {
      "text/plain": [
       "273.9506172839506"
      ]
     },
     "execution_count": 16,
     "metadata": {},
     "output_type": "execute_result"
    }
   ],
   "source": [
    "#variância\n",
    "np.var(np_matriz)"
   ]
  },
  {
   "cell_type": "markdown",
   "metadata": {},
   "source": [
    "Cáculos de matrizes \n"
   ]
  },
  {
   "cell_type": "code",
   "execution_count": 17,
   "metadata": {},
   "outputs": [
    {
     "name": "stdout",
     "output_type": "stream",
     "text": [
      "[[63 25 17]\n",
      " [48 58 51]]\n"
     ]
    }
   ],
   "source": [
    "# Soma de matrizes\n",
    "matrizA = np.array([np.random.randint(0,50,3),np.random.randint(0,50,3)])\n",
    "matrizB = np.array([np.random.randint(0,20,3),np.random.randint(0,20,3)])\n",
    "print(np.add(matrizA,matrizB))"
   ]
  },
  {
   "cell_type": "code",
   "execution_count": 18,
   "metadata": {},
   "outputs": [
    {
     "name": "stdout",
     "output_type": "stream",
     "text": [
      "[[33 -1 15]\n",
      " [20 20 35]]\n"
     ]
    }
   ],
   "source": [
    "#subtração de matriz\n",
    "print(np.subtract(matrizA,matrizB))"
   ]
  },
  {
   "cell_type": "code",
   "execution_count": 19,
   "metadata": {},
   "outputs": [
    {
     "name": "stdout",
     "output_type": "stream",
     "text": [
      "[[720 156  16]\n",
      " [476 741 344]]\n"
     ]
    }
   ],
   "source": [
    "#multiplicação de matrizes \n",
    "print(matrizA*matrizB)"
   ]
  },
  {
   "cell_type": "markdown",
   "metadata": {},
   "source": [
    "Calculo Diagonal da matriz \n"
   ]
  },
  {
   "cell_type": "code",
   "execution_count": 20,
   "metadata": {},
   "outputs": [
    {
     "name": "stdout",
     "output_type": "stream",
     "text": [
      "[48 39]\n",
      "[12 43]\n",
      "[34]\n",
      "[[ 0.00775194 -0.02131783  0.01744186]\n",
      " [ 0.4379845  -0.70445736 -0.01453488]\n",
      " [-0.33333333  0.66666667  0.        ]]\n"
     ]
    }
   ],
   "source": [
    "#Diagonal principal \n",
    "print(matrizA.diagonal())\n",
    "#acima da principal\n",
    "print(matrizA.diagonal(offset=1))\n",
    "#abaixo da principal\n",
    "print(matrizA.diagonal(offset=-1))\n",
    "#Matriz inversa \n",
    "print(np.linalg.inv(np_matriz))"
   ]
  },
  {
   "cell_type": "markdown",
   "metadata": {},
   "source": [
    "Adicionar elementos na matriz "
   ]
  },
  {
   "cell_type": "code",
   "execution_count": 21,
   "metadata": {},
   "outputs": [
    {
     "name": "stdout",
     "output_type": "stream",
     "text": [
      "[[110 112 113]\n",
      " [105 106 108]\n",
      " [159 102 104]]\n"
     ]
    }
   ],
   "source": [
    "add_100 = lambda i:i+100\n",
    "\n",
    "print(add_100(np_matriz))"
   ]
  },
  {
   "cell_type": "markdown",
   "metadata": {},
   "source": [
    "OPERAÇÕES LÓGICAS COM ARRAYS "
   ]
  },
  {
   "cell_type": "code",
   "execution_count": 22,
   "metadata": {},
   "outputs": [
    {
     "name": "stdout",
     "output_type": "stream",
     "text": [
      "[[10 12 13]\n",
      " [ 5  6  8]\n",
      " [59  2  4]]\n",
      "(array([0, 1], dtype=int64),)\n"
     ]
    }
   ],
   "source": [
    "print(np_matriz)\n",
    "\n",
    "print(np.where(array_linha<3))"
   ]
  }
 ],
 "metadata": {
  "kernelspec": {
   "display_name": "base",
   "language": "python",
   "name": "python3"
  },
  "language_info": {
   "codemirror_mode": {
    "name": "ipython",
    "version": 3
   },
   "file_extension": ".py",
   "mimetype": "text/x-python",
   "name": "python",
   "nbconvert_exporter": "python",
   "pygments_lexer": "ipython3",
   "version": "3.11.5"
  }
 },
 "nbformat": 4,
 "nbformat_minor": 2
}
